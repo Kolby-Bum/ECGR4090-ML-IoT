{
  "nbformat": 4,
  "nbformat_minor": 5,
  "metadata": {
    "kernelspec": {
      "display_name": "Python 3",
      "language": "python",
      "name": "python3"
    },
    "language_info": {
      "codemirror_mode": {
        "name": "ipython",
        "version": 3
      },
      "file_extension": ".py",
      "mimetype": "text/x-python",
      "name": "python",
      "nbconvert_exporter": "python",
      "pygments_lexer": "ipython3",
      "version": "3.8.5"
    },
    "colab": {
      "name": "hw2.ipynb",
      "provenance": []
    },
    "accelerator": "GPU"
  },
  "cells": [
    {
      "cell_type": "code",
      "metadata": {
        "colab": {
          "base_uri": "https://localhost:8080/"
        },
        "id": "C7UrYpq1VvLy",
        "outputId": "adddacbb-9c87-48ba-9125-1d84823dedb1"
      },
      "source": [
        "# TensorFlow and tf.keras\n",
        "import tensorflow as tf\n",
        "\n",
        "# Helper libraries\n",
        "import numpy as np\n",
        "import matplotlib.pyplot as plt\n",
        "\n",
        "from tensorflow.keras import Input, layers\n",
        "\n",
        "print(tf.__version__)\n",
        "\n"
      ],
      "id": "C7UrYpq1VvLy",
      "execution_count": 2,
      "outputs": [
        {
          "output_type": "stream",
          "text": [
            "2.4.1\n"
          ],
          "name": "stdout"
        }
      ]
    },
    {
      "cell_type": "code",
      "metadata": {
        "colab": {
          "base_uri": "https://localhost:8080/"
        },
        "id": "ZGlGoq2cVvL4",
        "outputId": "62ceef21-9293-4f58-d3da-b793bd6139cb"
      },
      "source": [
        "dataset = \"cifar\"\n",
        "if dataset == \"fashion_mnist\":\n",
        "  fashion_mnist = tf.keras.datasets.fashion_mnist\n",
        "  (train_images, train_labels), (test_images, test_labels) = fashion_mnist.load_data()\n",
        "  class_names = ['T-shirt/top', 'Trouser', 'Pullover', 'Dress', 'Coat',\n",
        "               'Sandal', 'Shirt', 'Sneaker', 'Bag', 'Ankle boot']\n",
        "elif dataset == \"mnist\":\n",
        "  mnist = tf.keras.datasets.mnist\n",
        "  (train_images, train_labels), (test_images, test_labels) = mnist.load_data()\n",
        "  class_names = ['0', '1', '2', '3', '4', '5', '6', '7', '8', '9']\n",
        "elif dataset == \"cifar\":\n",
        "  (train_images, train_labels), (test_images, test_labels) = tf.keras.datasets.cifar10.load_data()\n",
        "  class_names = ['airplane','automobile','bird','cat','deer','dog','frog','horse','ship','truck']\n",
        "  train_labels = train_labels.squeeze()\n",
        "  test_labels = test_labels.squeeze()\n",
        "\n",
        "input_shape = train_images.shape[1:]\n",
        "train_images = train_images / 255.0\n",
        "test_images = test_images / 255.0\n",
        "print(\"Training Images range from {:2.5f} to {:2.5f}\".format(np.min(train_images), np.max(train_images)))\n",
        "print(\"Test     Images range from {:2.5f} to {:2.5f}\".format(np.min(test_images), np.max(test_images)))"
      ],
      "id": "ZGlGoq2cVvL4",
      "execution_count": 3,
      "outputs": [
        {
          "output_type": "stream",
          "text": [
            "Downloading data from https://www.cs.toronto.edu/~kriz/cifar-10-python.tar.gz\n",
            "170500096/170498071 [==============================] - 35s 0us/step\n",
            "Training Images range from 0.00000 to 1.00000\n",
            "Test     Images range from 0.00000 to 1.00000\n"
          ],
          "name": "stdout"
        }
      ]
    },
    {
      "cell_type": "code",
      "metadata": {
        "id": "ySBXsfyGVvL-"
      },
      "source": [
        "# https://keras.io/api/models/sequential/\n",
        "model = tf.keras.Sequential([\n",
        "  Input(shape=input_shape),\n",
        "  layers.Conv2D(32, kernel_size=(3,3), strides = 2, activation=\"relu\", padding='same'),\n",
        "  layers.Conv2D(64, kernel_size=(3,3), strides = 2, activation=\"relu\", padding='same'),\n",
        "  layers.MaxPooling2D(pool_size=(2, 2), strides = 2 ),\n",
        "  layers.Flatten(),\n",
        "  layers.Dense(1024, activation='relu'),\n",
        "  layers.Dense(10)\n",
        "])\n",
        "model.compile(optimizer='adam', \n",
        "              loss=tf.keras.losses.SparseCategoricalCrossentropy(from_logits=True), \n",
        "              metrics=['accuracy'])"
      ],
      "id": "ySBXsfyGVvL-",
      "execution_count": 4,
      "outputs": []
    },
    {
      "cell_type": "code",
      "metadata": {
        "colab": {
          "base_uri": "https://localhost:8080/"
        },
        "id": "Z9cGWE8OVvMA",
        "outputId": "c7e1dec9-dab6-4e9c-f91b-f4f1a7da2ace"
      },
      "source": [
        "model.summary()"
      ],
      "id": "Z9cGWE8OVvMA",
      "execution_count": 5,
      "outputs": [
        {
          "output_type": "stream",
          "text": [
            "Model: \"sequential\"\n",
            "_________________________________________________________________\n",
            "Layer (type)                 Output Shape              Param #   \n",
            "=================================================================\n",
            "conv2d (Conv2D)              (None, 16, 16, 32)        896       \n",
            "_________________________________________________________________\n",
            "conv2d_1 (Conv2D)            (None, 8, 8, 64)          18496     \n",
            "_________________________________________________________________\n",
            "max_pooling2d (MaxPooling2D) (None, 4, 4, 64)          0         \n",
            "_________________________________________________________________\n",
            "flatten (Flatten)            (None, 1024)              0         \n",
            "_________________________________________________________________\n",
            "dense (Dense)                (None, 1024)              1049600   \n",
            "_________________________________________________________________\n",
            "dense_1 (Dense)              (None, 10)                10250     \n",
            "=================================================================\n",
            "Total params: 1,079,242\n",
            "Trainable params: 1,079,242\n",
            "Non-trainable params: 0\n",
            "_________________________________________________________________\n"
          ],
          "name": "stdout"
        }
      ]
    },
    {
      "cell_type": "code",
      "metadata": {
        "colab": {
          "base_uri": "https://localhost:8080/"
        },
        "id": "Z18fzHepVvMB",
        "outputId": "c5a2f35c-23de-4189-b59a-fba495001484"
      },
      "source": [
        "train_hist = model.fit(train_images, train_labels, epochs=50)"
      ],
      "id": "Z18fzHepVvMB",
      "execution_count": 5,
      "outputs": [
        {
          "output_type": "stream",
          "text": [
            "Epoch 1/50\n",
            "1563/1563 [==============================] - 11s 3ms/step - loss: 1.5874 - accuracy: 0.4254\n",
            "Epoch 2/50\n",
            "1563/1563 [==============================] - 4s 3ms/step - loss: 1.0574 - accuracy: 0.6258\n",
            "Epoch 3/50\n",
            "1563/1563 [==============================] - 4s 3ms/step - loss: 0.8803 - accuracy: 0.6905\n",
            "Epoch 4/50\n",
            "1563/1563 [==============================] - 4s 3ms/step - loss: 0.7100 - accuracy: 0.7506\n",
            "Epoch 5/50\n",
            "1563/1563 [==============================] - 4s 3ms/step - loss: 0.5727 - accuracy: 0.8018\n",
            "Epoch 6/50\n",
            "1563/1563 [==============================] - 4s 3ms/step - loss: 0.4125 - accuracy: 0.8591\n",
            "Epoch 7/50\n",
            "1563/1563 [==============================] - 4s 3ms/step - loss: 0.2822 - accuracy: 0.9027\n",
            "Epoch 8/50\n",
            "1563/1563 [==============================] - 4s 3ms/step - loss: 0.1879 - accuracy: 0.9382\n",
            "Epoch 9/50\n",
            "1563/1563 [==============================] - 4s 3ms/step - loss: 0.1237 - accuracy: 0.9598\n",
            "Epoch 10/50\n",
            "1563/1563 [==============================] - 4s 3ms/step - loss: 0.1029 - accuracy: 0.9650\n",
            "Epoch 11/50\n",
            "1563/1563 [==============================] - 4s 3ms/step - loss: 0.0758 - accuracy: 0.9748\n",
            "Epoch 12/50\n",
            "1563/1563 [==============================] - 4s 3ms/step - loss: 0.0758 - accuracy: 0.9742\n",
            "Epoch 13/50\n",
            "1563/1563 [==============================] - 4s 3ms/step - loss: 0.0622 - accuracy: 0.9794\n",
            "Epoch 14/50\n",
            "1563/1563 [==============================] - 4s 2ms/step - loss: 0.0685 - accuracy: 0.9792\n",
            "Epoch 15/50\n",
            "1563/1563 [==============================] - 4s 3ms/step - loss: 0.0497 - accuracy: 0.9840\n",
            "Epoch 16/50\n",
            "1563/1563 [==============================] - 4s 2ms/step - loss: 0.0605 - accuracy: 0.9801\n",
            "Epoch 17/50\n",
            "1563/1563 [==============================] - 4s 2ms/step - loss: 0.0633 - accuracy: 0.9788\n",
            "Epoch 18/50\n",
            "1563/1563 [==============================] - 4s 3ms/step - loss: 0.0508 - accuracy: 0.9830\n",
            "Epoch 19/50\n",
            "1563/1563 [==============================] - 4s 3ms/step - loss: 0.0567 - accuracy: 0.9822\n",
            "Epoch 20/50\n",
            "1563/1563 [==============================] - 4s 3ms/step - loss: 0.0512 - accuracy: 0.9834\n",
            "Epoch 21/50\n",
            "1563/1563 [==============================] - 4s 2ms/step - loss: 0.0504 - accuracy: 0.9836\n",
            "Epoch 22/50\n",
            "1563/1563 [==============================] - 4s 2ms/step - loss: 0.0551 - accuracy: 0.9817\n",
            "Epoch 23/50\n",
            "1563/1563 [==============================] - 4s 2ms/step - loss: 0.0537 - accuracy: 0.9825\n",
            "Epoch 24/50\n",
            "1563/1563 [==============================] - 4s 2ms/step - loss: 0.0394 - accuracy: 0.9874\n",
            "Epoch 25/50\n",
            "1563/1563 [==============================] - 4s 2ms/step - loss: 0.0406 - accuracy: 0.9860\n",
            "Epoch 26/50\n",
            "1563/1563 [==============================] - 4s 2ms/step - loss: 0.0523 - accuracy: 0.9836\n",
            "Epoch 27/50\n",
            "1563/1563 [==============================] - 4s 3ms/step - loss: 0.0409 - accuracy: 0.9868\n",
            "Epoch 28/50\n",
            "1563/1563 [==============================] - 4s 2ms/step - loss: 0.0379 - accuracy: 0.9886\n",
            "Epoch 29/50\n",
            "1563/1563 [==============================] - 4s 3ms/step - loss: 0.0361 - accuracy: 0.9882\n",
            "Epoch 30/50\n",
            "1563/1563 [==============================] - 4s 2ms/step - loss: 0.0450 - accuracy: 0.9857\n",
            "Epoch 31/50\n",
            "1563/1563 [==============================] - 4s 3ms/step - loss: 0.0393 - accuracy: 0.9870\n",
            "Epoch 32/50\n",
            "1563/1563 [==============================] - 4s 2ms/step - loss: 0.0329 - accuracy: 0.9892\n",
            "Epoch 33/50\n",
            "1563/1563 [==============================] - 4s 2ms/step - loss: 0.0396 - accuracy: 0.9876\n",
            "Epoch 34/50\n",
            "1563/1563 [==============================] - 4s 2ms/step - loss: 0.0407 - accuracy: 0.9878\n",
            "Epoch 35/50\n",
            "1563/1563 [==============================] - 4s 2ms/step - loss: 0.0369 - accuracy: 0.9889\n",
            "Epoch 36/50\n",
            "1563/1563 [==============================] - 4s 3ms/step - loss: 0.0399 - accuracy: 0.9876\n",
            "Epoch 37/50\n",
            "1563/1563 [==============================] - 4s 2ms/step - loss: 0.0361 - accuracy: 0.9891\n",
            "Epoch 38/50\n",
            "1563/1563 [==============================] - 4s 2ms/step - loss: 0.0396 - accuracy: 0.9879\n",
            "Epoch 39/50\n",
            "1563/1563 [==============================] - 4s 2ms/step - loss: 0.0405 - accuracy: 0.9869\n",
            "Epoch 40/50\n",
            "1563/1563 [==============================] - 4s 2ms/step - loss: 0.0350 - accuracy: 0.9903\n",
            "Epoch 41/50\n",
            "1563/1563 [==============================] - 4s 2ms/step - loss: 0.0482 - accuracy: 0.9867\n",
            "Epoch 42/50\n",
            "1563/1563 [==============================] - 4s 2ms/step - loss: 0.0332 - accuracy: 0.9895\n",
            "Epoch 43/50\n",
            "1563/1563 [==============================] - 4s 2ms/step - loss: 0.0365 - accuracy: 0.9890\n",
            "Epoch 44/50\n",
            "1563/1563 [==============================] - 4s 2ms/step - loss: 0.0321 - accuracy: 0.9903\n",
            "Epoch 45/50\n",
            "1563/1563 [==============================] - 4s 3ms/step - loss: 0.0329 - accuracy: 0.9912\n",
            "Epoch 46/50\n",
            "1563/1563 [==============================] - 4s 2ms/step - loss: 0.0344 - accuracy: 0.9901\n",
            "Epoch 47/50\n",
            "1563/1563 [==============================] - 4s 3ms/step - loss: 0.0377 - accuracy: 0.9900\n",
            "Epoch 48/50\n",
            "1563/1563 [==============================] - 4s 3ms/step - loss: 0.0405 - accuracy: 0.9892\n",
            "Epoch 49/50\n",
            "1563/1563 [==============================] - 4s 2ms/step - loss: 0.0452 - accuracy: 0.9881\n",
            "Epoch 50/50\n",
            "1563/1563 [==============================] - 4s 2ms/step - loss: 0.0375 - accuracy: 0.9897\n"
          ],
          "name": "stdout"
        }
      ]
    },
    {
      "cell_type": "code",
      "metadata": {
        "colab": {
          "base_uri": "https://localhost:8080/"
        },
        "id": "Pv82nAM-VvMD",
        "outputId": "2d2da238-fa41-4eab-bbe8-011cbbedbb40"
      },
      "source": [
        "test_loss, test_acc = model.evaluate(test_images, test_labels)"
      ],
      "id": "Pv82nAM-VvMD",
      "execution_count": 7,
      "outputs": [
        {
          "output_type": "stream",
          "text": [
            "313/313 [==============================] - 1s 2ms/step - loss: 4.5817 - accuracy: 0.6564\n"
          ],
          "name": "stdout"
        }
      ]
    },
    {
      "cell_type": "markdown",
      "metadata": {
        "id": "QYKCmamubtXY"
      },
      "source": [
        "# Training Accuracy is 98.97% and Test Accuracy is 65.64%"
      ],
      "id": "QYKCmamubtXY"
    },
    {
      "cell_type": "code",
      "metadata": {
        "colab": {
          "base_uri": "https://localhost:8080/"
        },
        "id": "nasvGSk4iLxX",
        "outputId": "f64ebd30-79e9-4337-b72c-4a490aeead1d"
      },
      "source": [
        "from keras_preprocessing import image\r\n",
        "from google.colab import drive\r\n",
        "drive.mount('/content/drive')\r\n",
        "import PIL\r\n",
        "import PIL.Image\r\n",
        "img_dir = \"/content/drive/My Drive/Aircraft.jpg\"\r\n"
      ],
      "id": "nasvGSk4iLxX",
      "execution_count": 9,
      "outputs": [
        {
          "output_type": "stream",
          "text": [
            "Mounted at /content/drive\n"
          ],
          "name": "stdout"
        }
      ]
    },
    {
      "cell_type": "code",
      "metadata": {
        "colab": {
          "base_uri": "https://localhost:8080/",
          "height": 49
        },
        "id": "IorIRM9Ok-Dr",
        "outputId": "ac027597-260f-4a1e-9de0-272870b879f7"
      },
      "source": [
        "img = PIL.Image.open(img_dir)\r\n",
        "img"
      ],
      "id": "IorIRM9Ok-Dr",
      "execution_count": 10,
      "outputs": [
        {
          "output_type": "execute_result",
          "data": {
            "image/png": "[encoded data removed]",
            "text/plain": [
              "<PIL.JpegImagePlugin.JpegImageFile image mode=RGB size=32x32 at 0x7F53A01C5D10>"
            ]
          },
          "metadata": {
            "tags": []
          },
          "execution_count": 10
        }
      ]
    },
    {
      "cell_type": "code",
      "metadata": {
        "colab": {
          "base_uri": "https://localhost:8080/",
          "height": 285
        },
        "id": "4Af5H80lld66",
        "outputId": "3a288848-0280-4b4e-aecd-99a43109458e"
      },
      "source": [
        "ex_img = np.array([image.img_to_array(img,dtype = np.uint8)])\r\n",
        "ex_out = model.predict(ex_img)\r\n",
        "plt.subplot(2,1,1)\r\n",
        "plt.imshow(ex_img[0,:,:], cmap='Greys')\r\n",
        "\r\n",
        "plt.subplot(2,1,2)\r\n",
        "plt.bar(np.arange(10), ex_out[0])"
      ],
      "id": "4Af5H80lld66",
      "execution_count": 11,
      "outputs": [
        {
          "output_type": "execute_result",
          "data": {
            "text/plain": [
              "<BarContainer object of 10 artists>"
            ]
          },
          "metadata": {
            "tags": []
          },
          "execution_count": 11
        },
        {
          "output_type": "display_data",
          "data": {
            "image/png": "[encoded data removed]",
            "text/plain": [
              "<Figure size 432x288 with 2 Axes>"
            ]
          },
          "metadata": {
            "tags": [],
            "needs_background": "light"
          }
        }
      ]
    },
    {
      "cell_type": "markdown",
      "metadata": {
        "id": "Sfv8_4gHblrp"
      },
      "source": [
        "# Classification 0 is \"airplane\" so the model correctly identified the picture"
      ],
      "id": "Sfv8_4gHblrp"
    },
    {
      "cell_type": "code",
      "metadata": {
        "id": "hid5bpi9dW-m"
      },
      "source": [
        "model = tf.keras.Sequential([\r\n",
        "  Input(shape=input_shape),\r\n",
        "  layers.DepthwiseConv2D(kernel_size=(3,3),strides=(2), activation=\"relu\", padding='same'),\r\n",
        "  layers.Conv2D(32, kernel_size=(1,1), activation=\"relu\", padding='same'),\r\n",
        "  layers.DepthwiseConv2D(kernel_size=(3,3),strides=(2), activation=\"relu\", padding='same'),\r\n",
        "  layers.Conv2D(64, kernel_size=(1,1), activation=\"relu\", padding='same'),\r\n",
        "  layers.MaxPooling2D(pool_size=(2, 2)),\r\n",
        "  layers.Flatten(),\r\n",
        "  layers.Dense(1024, activation='relu'),\r\n",
        "  layers.Dense(10)\r\n",
        "])\r\n",
        "model.compile(optimizer='adam', \r\n",
        "              loss=tf.keras.losses.SparseCategoricalCrossentropy(from_logits=True), \r\n",
        "              metrics=['accuracy'])"
      ],
      "id": "hid5bpi9dW-m",
      "execution_count": 12,
      "outputs": []
    },
    {
      "cell_type": "code",
      "metadata": {
        "colab": {
          "base_uri": "https://localhost:8080/"
        },
        "id": "Tm8lRgHnsw85",
        "outputId": "904acf07-a702-4a57-8e5f-f98e5cf77eaa"
      },
      "source": [
        "model.summary()"
      ],
      "id": "Tm8lRgHnsw85",
      "execution_count": 13,
      "outputs": [
        {
          "output_type": "stream",
          "text": [
            "Model: \"sequential_1\"\n",
            "_________________________________________________________________\n",
            "Layer (type)                 Output Shape              Param #   \n",
            "=================================================================\n",
            "depthwise_conv2d (DepthwiseC (None, 16, 16, 3)         30        \n",
            "_________________________________________________________________\n",
            "conv2d_2 (Conv2D)            (None, 16, 16, 32)        128       \n",
            "_________________________________________________________________\n",
            "depthwise_conv2d_1 (Depthwis (None, 8, 8, 32)          320       \n",
            "_________________________________________________________________\n",
            "conv2d_3 (Conv2D)            (None, 8, 8, 64)          2112      \n",
            "_________________________________________________________________\n",
            "max_pooling2d_1 (MaxPooling2 (None, 4, 4, 64)          0         \n",
            "_________________________________________________________________\n",
            "flatten_1 (Flatten)          (None, 1024)              0         \n",
            "_________________________________________________________________\n",
            "dense_2 (Dense)              (None, 1024)              1049600   \n",
            "_________________________________________________________________\n",
            "dense_3 (Dense)              (None, 10)                10250     \n",
            "=================================================================\n",
            "Total params: 1,062,440\n",
            "Trainable params: 1,062,440\n",
            "Non-trainable params: 0\n",
            "_________________________________________________________________\n"
          ],
          "name": "stdout"
        }
      ]
    },
    {
      "cell_type": "code",
      "metadata": {
        "colab": {
          "base_uri": "https://localhost:8080/"
        },
        "id": "PsPDRHVbtEaQ",
        "outputId": "3c7abc03-e2e9-4c32-c130-a8ad5e05d6fd"
      },
      "source": [
        "train_hist = model.fit(train_images, train_labels, epochs=50)"
      ],
      "id": "PsPDRHVbtEaQ",
      "execution_count": 14,
      "outputs": [
        {
          "output_type": "stream",
          "text": [
            "Epoch 1/50\n",
            "1563/1563 [==============================] - 5s 3ms/step - loss: 2.0976 - accuracy: 0.2128\n",
            "Epoch 2/50\n",
            "1563/1563 [==============================] - 5s 3ms/step - loss: 1.6650 - accuracy: 0.4018\n",
            "Epoch 3/50\n",
            "1563/1563 [==============================] - 5s 3ms/step - loss: 1.4768 - accuracy: 0.4703\n",
            "Epoch 4/50\n",
            "1563/1563 [==============================] - 5s 3ms/step - loss: 1.3228 - accuracy: 0.5262\n",
            "Epoch 5/50\n",
            "1563/1563 [==============================] - 5s 3ms/step - loss: 1.1986 - accuracy: 0.5716\n",
            "Epoch 6/50\n",
            "1563/1563 [==============================] - 5s 3ms/step - loss: 1.1161 - accuracy: 0.6023\n",
            "Epoch 7/50\n",
            "1563/1563 [==============================] - 5s 3ms/step - loss: 1.0274 - accuracy: 0.6395\n",
            "Epoch 8/50\n",
            "1563/1563 [==============================] - 5s 3ms/step - loss: 0.9496 - accuracy: 0.6649\n",
            "Epoch 9/50\n",
            "1563/1563 [==============================] - 5s 3ms/step - loss: 0.8723 - accuracy: 0.6932\n",
            "Epoch 10/50\n",
            "1563/1563 [==============================] - 5s 3ms/step - loss: 0.8017 - accuracy: 0.7223\n",
            "Epoch 11/50\n",
            "1563/1563 [==============================] - 5s 3ms/step - loss: 0.7318 - accuracy: 0.7452\n",
            "Epoch 12/50\n",
            "1563/1563 [==============================] - 5s 3ms/step - loss: 0.6489 - accuracy: 0.7735\n",
            "Epoch 13/50\n",
            "1563/1563 [==============================] - 5s 3ms/step - loss: 0.5758 - accuracy: 0.8014\n",
            "Epoch 14/50\n",
            "1563/1563 [==============================] - 5s 3ms/step - loss: 0.5006 - accuracy: 0.8275\n",
            "Epoch 15/50\n",
            "1563/1563 [==============================] - 5s 3ms/step - loss: 0.4304 - accuracy: 0.8509\n",
            "Epoch 16/50\n",
            "1563/1563 [==============================] - 5s 3ms/step - loss: 0.3668 - accuracy: 0.8739\n",
            "Epoch 17/50\n",
            "1563/1563 [==============================] - 5s 3ms/step - loss: 0.3058 - accuracy: 0.8968\n",
            "Epoch 18/50\n",
            "1563/1563 [==============================] - 5s 3ms/step - loss: 0.2425 - accuracy: 0.9202\n",
            "Epoch 19/50\n",
            "1563/1563 [==============================] - 5s 3ms/step - loss: 0.2066 - accuracy: 0.9299\n",
            "Epoch 20/50\n",
            "1563/1563 [==============================] - 5s 3ms/step - loss: 0.1670 - accuracy: 0.9463\n",
            "Epoch 21/50\n",
            "1563/1563 [==============================] - 5s 3ms/step - loss: 0.1365 - accuracy: 0.9554\n",
            "Epoch 22/50\n",
            "1563/1563 [==============================] - 5s 3ms/step - loss: 0.1240 - accuracy: 0.9586\n",
            "Epoch 23/50\n",
            "1563/1563 [==============================] - 5s 3ms/step - loss: 0.1040 - accuracy: 0.9650\n",
            "Epoch 24/50\n",
            "1563/1563 [==============================] - 5s 3ms/step - loss: 0.0958 - accuracy: 0.9683\n",
            "Epoch 25/50\n",
            "1563/1563 [==============================] - 4s 3ms/step - loss: 0.0891 - accuracy: 0.9703\n",
            "Epoch 26/50\n",
            "1563/1563 [==============================] - 5s 3ms/step - loss: 0.0714 - accuracy: 0.9764\n",
            "Epoch 27/50\n",
            "1563/1563 [==============================] - 5s 3ms/step - loss: 0.0665 - accuracy: 0.9783\n",
            "Epoch 28/50\n",
            "1563/1563 [==============================] - 5s 3ms/step - loss: 0.0692 - accuracy: 0.9778\n",
            "Epoch 29/50\n",
            "1563/1563 [==============================] - 5s 3ms/step - loss: 0.0652 - accuracy: 0.9783\n",
            "Epoch 30/50\n",
            "1563/1563 [==============================] - 5s 3ms/step - loss: 0.0651 - accuracy: 0.9769\n",
            "Epoch 31/50\n",
            "1563/1563 [==============================] - 5s 3ms/step - loss: 0.0650 - accuracy: 0.9782\n",
            "Epoch 32/50\n",
            "1563/1563 [==============================] - 5s 3ms/step - loss: 0.0644 - accuracy: 0.9792\n",
            "Epoch 33/50\n",
            "1563/1563 [==============================] - 5s 3ms/step - loss: 0.0618 - accuracy: 0.9792\n",
            "Epoch 34/50\n",
            "1563/1563 [==============================] - 5s 3ms/step - loss: 0.0622 - accuracy: 0.9788\n",
            "Epoch 35/50\n",
            "1563/1563 [==============================] - 5s 3ms/step - loss: 0.0646 - accuracy: 0.9771\n",
            "Epoch 36/50\n",
            "1563/1563 [==============================] - 5s 3ms/step - loss: 0.0492 - accuracy: 0.9823\n",
            "Epoch 37/50\n",
            "1563/1563 [==============================] - 5s 3ms/step - loss: 0.0524 - accuracy: 0.9807\n",
            "Epoch 38/50\n",
            "1563/1563 [==============================] - 5s 3ms/step - loss: 0.0452 - accuracy: 0.9844\n",
            "Epoch 39/50\n",
            "1563/1563 [==============================] - 5s 3ms/step - loss: 0.0570 - accuracy: 0.9798\n",
            "Epoch 40/50\n",
            "1563/1563 [==============================] - 5s 3ms/step - loss: 0.0539 - accuracy: 0.9812\n",
            "Epoch 41/50\n",
            "1563/1563 [==============================] - 5s 3ms/step - loss: 0.0466 - accuracy: 0.9842\n",
            "Epoch 42/50\n",
            "1563/1563 [==============================] - 5s 3ms/step - loss: 0.0435 - accuracy: 0.9856\n",
            "Epoch 43/50\n",
            "1563/1563 [==============================] - 5s 3ms/step - loss: 0.0534 - accuracy: 0.9811\n",
            "Epoch 44/50\n",
            "1563/1563 [==============================] - 5s 3ms/step - loss: 0.0410 - accuracy: 0.9863\n",
            "Epoch 45/50\n",
            "1563/1563 [==============================] - 5s 3ms/step - loss: 0.0489 - accuracy: 0.9825\n",
            "Epoch 46/50\n",
            "1563/1563 [==============================] - 4s 3ms/step - loss: 0.0437 - accuracy: 0.9847\n",
            "Epoch 47/50\n",
            "1563/1563 [==============================] - 5s 3ms/step - loss: 0.0435 - accuracy: 0.9854\n",
            "Epoch 48/50\n",
            "1563/1563 [==============================] - 4s 3ms/step - loss: 0.0423 - accuracy: 0.9853\n",
            "Epoch 49/50\n",
            "1563/1563 [==============================] - 5s 3ms/step - loss: 0.0484 - accuracy: 0.9830\n",
            "Epoch 50/50\n",
            "1563/1563 [==============================] - 5s 3ms/step - loss: 0.0388 - accuracy: 0.9865\n"
          ],
          "name": "stdout"
        }
      ]
    },
    {
      "cell_type": "code",
      "metadata": {
        "colab": {
          "base_uri": "https://localhost:8080/"
        },
        "id": "224qTk8RuX4L",
        "outputId": "f1e15a6d-5c4f-4010-bdfb-7df97c5c44ec"
      },
      "source": [
        "test_loss, test_acc = model.evaluate(test_images, test_labels)"
      ],
      "id": "224qTk8RuX4L",
      "execution_count": 15,
      "outputs": [
        {
          "output_type": "stream",
          "text": [
            "313/313 [==============================] - 1s 2ms/step - loss: 4.4888 - accuracy: 0.5789\n"
          ],
          "name": "stdout"
        }
      ]
    },
    {
      "cell_type": "markdown",
      "metadata": {
        "id": "wPmRkAVhbdBb"
      },
      "source": [
        "# Training Accuracy = 98.65%, Test Accuracy = 57.89%"
      ],
      "id": "wPmRkAVhbdBb"
    },
    {
      "cell_type": "code",
      "metadata": {
        "colab": {
          "base_uri": "https://localhost:8080/",
          "height": 285
        },
        "id": "pMNMKvu7trP2",
        "outputId": "2af9c0ea-74a2-4625-9e92-2c45e0748c22"
      },
      "source": [
        "ex_img = np.array([image.img_to_array(img,dtype = np.uint8)])\r\n",
        "ex_out = model.predict(ex_img)\r\n",
        "plt.subplot(2,1,1)\r\n",
        "plt.imshow(ex_img[0,:,:], cmap='Greys')\r\n",
        "\r\n",
        "plt.subplot(2,1,2)\r\n",
        "plt.bar(np.arange(10), ex_out[0])"
      ],
      "id": "pMNMKvu7trP2",
      "execution_count": 16,
      "outputs": [
        {
          "output_type": "execute_result",
          "data": {
            "text/plain": [
              "<BarContainer object of 10 artists>"
            ]
          },
          "metadata": {
            "tags": []
          },
          "execution_count": 16
        },
        {
          "output_type": "display_data",
          "data": {
            "image/png": "[encoded data removed]",
            "text/plain": [
              "<Figure size 432x288 with 2 Axes>"
            ]
          },
          "metadata": {
            "tags": [],
            "needs_background": "light"
          }
        }
      ]
    },
    {
      "cell_type": "markdown",
      "metadata": {
        "id": "CReLwUUvbJPJ"
      },
      "source": [
        "\r\n",
        "#Model correctly identified picture but thinks it also may be a bird"
      ],
      "id": "CReLwUUvbJPJ"
    }
  ]
}